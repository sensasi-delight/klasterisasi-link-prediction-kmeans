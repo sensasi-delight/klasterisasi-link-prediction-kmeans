{
  "nbformat": 4,
  "nbformat_minor": 0,
  "metadata": {
    "colab": {
      "name": "FP - Semantic Web - Link Prediction Caleg",
      "provenance": [],
      "authorship_tag": "ABX9TyNtoWTHpO1RtJ09lUhIeo9X",
      "include_colab_link": true
    },
    "kernelspec": {
      "name": "python3",
      "display_name": "Python 3"
    },
    "language_info": {
      "name": "python"
    }
  },
  "cells": [
    {
      "cell_type": "markdown",
      "metadata": {
        "id": "view-in-github",
        "colab_type": "text"
      },
      "source": [
        "<a href=\"https://colab.research.google.com/github/sensasi-delight/klasterisasi-link-prediction-kmeans/blob/main/Klasterisasi%20Kmeans.ipynb\" target=\"_parent\"><img src=\"https://colab.research.google.com/assets/colab-badge.svg\" alt=\"Open In Colab\"/></a>"
      ]
    },
    {
      "cell_type": "markdown",
      "metadata": {
        "id": "sCzX0XWpur4q"
      },
      "source": [
        "# 0. Inisialisasi"
      ]
    },
    {
      "cell_type": "markdown",
      "metadata": {
        "id": "iSgevR8Qu1SN"
      },
      "source": [
        "0.1. Impor Pustaka Python"
      ]
    },
    {
      "cell_type": "code",
      "metadata": {
        "id": "4-TrmwynDiq3"
      },
      "source": [
        "import numpy as np\n",
        "import pandas as pd\n",
        "from matplotlib import pyplot as plt\n",
        "import seaborn as sns\n",
        "\n",
        "from sklearn.cluster import KMeans\n",
        "from sklearn import preprocessing\n"
      ],
      "execution_count": 1,
      "outputs": []
    },
    {
      "cell_type": "markdown",
      "metadata": {
        "id": "zYKyrIZo0sM_"
      },
      "source": [
        "0.2 Import Dataset Fitur"
      ]
    },
    {
      "cell_type": "code",
      "metadata": {
        "id": "2rQAbxI494Tq"
      },
      "source": [
        "!wget -qnc -P '' https://archive.org/download/caleg-linkprediction-dataset/d3%20-%20Dataset%20Hasil%20Ekstraksi%20Fitur.csv\n"
      ],
      "execution_count": 2,
      "outputs": []
    },
    {
      "cell_type": "code",
      "metadata": {
        "id": "dKnm49eB-p-c",
        "colab": {
          "base_uri": "https://localhost:8080/",
          "height": 419
        },
        "outputId": "5c27de56-e477-4bd1-894c-35d0942c4280"
      },
      "source": [
        "df_fitur = pd.read_csv(\"d3 - Dataset Hasil Ekstraksi Fitur.csv\")\n",
        "df_fitur"
      ],
      "execution_count": 3,
      "outputs": [
        {
          "output_type": "execute_result",
          "data": {
            "text/html": [
              "<div>\n",
              "<style scoped>\n",
              "    .dataframe tbody tr th:only-of-type {\n",
              "        vertical-align: middle;\n",
              "    }\n",
              "\n",
              "    .dataframe tbody tr th {\n",
              "        vertical-align: top;\n",
              "    }\n",
              "\n",
              "    .dataframe thead th {\n",
              "        text-align: right;\n",
              "    }\n",
              "</style>\n",
              "<table border=\"1\" class=\"dataframe\">\n",
              "  <thead>\n",
              "    <tr style=\"text-align: right;\">\n",
              "      <th></th>\n",
              "      <th>node1</th>\n",
              "      <th>node2</th>\n",
              "      <th>cn</th>\n",
              "      <th>pa</th>\n",
              "      <th>tn</th>\n",
              "      <th>sp</th>\n",
              "      <th>sl</th>\n",
              "    </tr>\n",
              "  </thead>\n",
              "  <tbody>\n",
              "    <tr>\n",
              "      <th>0</th>\n",
              "      <td>Ir A L LONGDONG</td>\n",
              "      <td>Ir A. ANDRIANSYAH</td>\n",
              "      <td>0.0</td>\n",
              "      <td>4.0</td>\n",
              "      <td>4.0</td>\n",
              "      <td>0.0</td>\n",
              "      <td>0.0</td>\n",
              "    </tr>\n",
              "    <tr>\n",
              "      <th>1</th>\n",
              "      <td>Ir A L LONGDONG</td>\n",
              "      <td>Ir A. BAGUS PEKIK. H</td>\n",
              "      <td>0.0</td>\n",
              "      <td>4.0</td>\n",
              "      <td>4.0</td>\n",
              "      <td>0.0</td>\n",
              "      <td>0.0</td>\n",
              "    </tr>\n",
              "    <tr>\n",
              "      <th>2</th>\n",
              "      <td>Ir A L LONGDONG</td>\n",
              "      <td>A. DADAN SURYANA S.Sos</td>\n",
              "      <td>0.0</td>\n",
              "      <td>4.0</td>\n",
              "      <td>4.0</td>\n",
              "      <td>0.0</td>\n",
              "      <td>0.0</td>\n",
              "    </tr>\n",
              "    <tr>\n",
              "      <th>3</th>\n",
              "      <td>Ir A L LONGDONG</td>\n",
              "      <td>A. DARSONO SH, MH</td>\n",
              "      <td>1.0</td>\n",
              "      <td>4.0</td>\n",
              "      <td>3.0</td>\n",
              "      <td>0.0</td>\n",
              "      <td>0.0</td>\n",
              "    </tr>\n",
              "    <tr>\n",
              "      <th>4</th>\n",
              "      <td>Ir A L LONGDONG</td>\n",
              "      <td>A. GUNAWAN SE</td>\n",
              "      <td>0.0</td>\n",
              "      <td>4.0</td>\n",
              "      <td>4.0</td>\n",
              "      <td>0.0</td>\n",
              "      <td>0.0</td>\n",
              "    </tr>\n",
              "    <tr>\n",
              "      <th>...</th>\n",
              "      <td>...</td>\n",
              "      <td>...</td>\n",
              "      <td>...</td>\n",
              "      <td>...</td>\n",
              "      <td>...</td>\n",
              "      <td>...</td>\n",
              "      <td>...</td>\n",
              "    </tr>\n",
              "    <tr>\n",
              "      <th>12472510</th>\n",
              "      <td>ZULKARNAIN S.Pd.I</td>\n",
              "      <td>ZULKIFLI NIODE</td>\n",
              "      <td>0.0</td>\n",
              "      <td>4.0</td>\n",
              "      <td>4.0</td>\n",
              "      <td>0.0</td>\n",
              "      <td>0.0</td>\n",
              "    </tr>\n",
              "    <tr>\n",
              "      <th>12472511</th>\n",
              "      <td>ZULKARNAIN S.Pd.I</td>\n",
              "      <td>ZUMALA EVA CHANDRASARI</td>\n",
              "      <td>0.0</td>\n",
              "      <td>4.0</td>\n",
              "      <td>4.0</td>\n",
              "      <td>0.0</td>\n",
              "      <td>0.0</td>\n",
              "    </tr>\n",
              "    <tr>\n",
              "      <th>12472512</th>\n",
              "      <td>ZULKIFLI S.Si, M.Si</td>\n",
              "      <td>ZULKIFLI NIODE</td>\n",
              "      <td>0.0</td>\n",
              "      <td>4.0</td>\n",
              "      <td>4.0</td>\n",
              "      <td>0.0</td>\n",
              "      <td>0.0</td>\n",
              "    </tr>\n",
              "    <tr>\n",
              "      <th>12472513</th>\n",
              "      <td>ZULKIFLI S.Si, M.Si</td>\n",
              "      <td>ZUMALA EVA CHANDRASARI</td>\n",
              "      <td>0.0</td>\n",
              "      <td>4.0</td>\n",
              "      <td>4.0</td>\n",
              "      <td>0.0</td>\n",
              "      <td>0.0</td>\n",
              "    </tr>\n",
              "    <tr>\n",
              "      <th>12472514</th>\n",
              "      <td>ZULKIFLI NIODE</td>\n",
              "      <td>ZUMALA EVA CHANDRASARI</td>\n",
              "      <td>0.0</td>\n",
              "      <td>4.0</td>\n",
              "      <td>4.0</td>\n",
              "      <td>0.0</td>\n",
              "      <td>0.0</td>\n",
              "    </tr>\n",
              "  </tbody>\n",
              "</table>\n",
              "<p>12472515 rows × 7 columns</p>\n",
              "</div>"
            ],
            "text/plain": [
              "                        node1                   node2   cn   pa   tn   sp   sl\n",
              "0             Ir A L LONGDONG       Ir A. ANDRIANSYAH  0.0  4.0  4.0  0.0  0.0\n",
              "1             Ir A L LONGDONG    Ir A. BAGUS PEKIK. H  0.0  4.0  4.0  0.0  0.0\n",
              "2             Ir A L LONGDONG  A. DADAN SURYANA S.Sos  0.0  4.0  4.0  0.0  0.0\n",
              "3             Ir A L LONGDONG       A. DARSONO SH, MH  1.0  4.0  3.0  0.0  0.0\n",
              "4             Ir A L LONGDONG           A. GUNAWAN SE  0.0  4.0  4.0  0.0  0.0\n",
              "...                       ...                     ...  ...  ...  ...  ...  ...\n",
              "12472510    ZULKARNAIN S.Pd.I          ZULKIFLI NIODE  0.0  4.0  4.0  0.0  0.0\n",
              "12472511    ZULKARNAIN S.Pd.I  ZUMALA EVA CHANDRASARI  0.0  4.0  4.0  0.0  0.0\n",
              "12472512  ZULKIFLI S.Si, M.Si          ZULKIFLI NIODE  0.0  4.0  4.0  0.0  0.0\n",
              "12472513  ZULKIFLI S.Si, M.Si  ZUMALA EVA CHANDRASARI  0.0  4.0  4.0  0.0  0.0\n",
              "12472514       ZULKIFLI NIODE  ZUMALA EVA CHANDRASARI  0.0  4.0  4.0  0.0  0.0\n",
              "\n",
              "[12472515 rows x 7 columns]"
            ]
          },
          "metadata": {
            "tags": []
          },
          "execution_count": 3
        }
      ]
    },
    {
      "cell_type": "markdown",
      "metadata": {
        "id": "01ZVZ0gKrtrA"
      },
      "source": [
        "# 1. Praproses Dataset"
      ]
    },
    {
      "cell_type": "markdown",
      "metadata": {
        "id": "oq9ZCndlvzMq"
      },
      "source": [
        "1.1. Pembersihan Dataset"
      ]
    },
    {
      "cell_type": "code",
      "metadata": {
        "id": "5EuQczBsiiU8",
        "colab": {
          "base_uri": "https://localhost:8080/",
          "height": 297
        },
        "outputId": "fcef53d9-4780-4e5f-c82c-0d6fc3f415b7"
      },
      "source": [
        "df_features = df_fitur.drop(['node1', 'node2'],axis=1)\n",
        "arr_features = df_features.to_numpy()\n",
        "\n",
        "pd.DataFrame(arr_features).describe()"
      ],
      "execution_count": 4,
      "outputs": [
        {
          "output_type": "execute_result",
          "data": {
            "text/html": [
              "<div>\n",
              "<style scoped>\n",
              "    .dataframe tbody tr th:only-of-type {\n",
              "        vertical-align: middle;\n",
              "    }\n",
              "\n",
              "    .dataframe tbody tr th {\n",
              "        vertical-align: top;\n",
              "    }\n",
              "\n",
              "    .dataframe thead th {\n",
              "        text-align: right;\n",
              "    }\n",
              "</style>\n",
              "<table border=\"1\" class=\"dataframe\">\n",
              "  <thead>\n",
              "    <tr style=\"text-align: right;\">\n",
              "      <th></th>\n",
              "      <th>0</th>\n",
              "      <th>1</th>\n",
              "      <th>2</th>\n",
              "      <th>3</th>\n",
              "      <th>4</th>\n",
              "    </tr>\n",
              "  </thead>\n",
              "  <tbody>\n",
              "    <tr>\n",
              "      <th>count</th>\n",
              "      <td>1.247252e+07</td>\n",
              "      <td>12472515.0</td>\n",
              "      <td>1.247252e+07</td>\n",
              "      <td>12472515.0</td>\n",
              "      <td>12472515.0</td>\n",
              "    </tr>\n",
              "    <tr>\n",
              "      <th>mean</th>\n",
              "      <td>9.984394e-02</td>\n",
              "      <td>4.0</td>\n",
              "      <td>3.900156e+00</td>\n",
              "      <td>0.0</td>\n",
              "      <td>0.0</td>\n",
              "    </tr>\n",
              "    <tr>\n",
              "      <th>std</th>\n",
              "      <td>3.033298e-01</td>\n",
              "      <td>0.0</td>\n",
              "      <td>3.033298e-01</td>\n",
              "      <td>0.0</td>\n",
              "      <td>0.0</td>\n",
              "    </tr>\n",
              "    <tr>\n",
              "      <th>min</th>\n",
              "      <td>0.000000e+00</td>\n",
              "      <td>4.0</td>\n",
              "      <td>2.000000e+00</td>\n",
              "      <td>0.0</td>\n",
              "      <td>0.0</td>\n",
              "    </tr>\n",
              "    <tr>\n",
              "      <th>25%</th>\n",
              "      <td>0.000000e+00</td>\n",
              "      <td>4.0</td>\n",
              "      <td>4.000000e+00</td>\n",
              "      <td>0.0</td>\n",
              "      <td>0.0</td>\n",
              "    </tr>\n",
              "    <tr>\n",
              "      <th>50%</th>\n",
              "      <td>0.000000e+00</td>\n",
              "      <td>4.0</td>\n",
              "      <td>4.000000e+00</td>\n",
              "      <td>0.0</td>\n",
              "      <td>0.0</td>\n",
              "    </tr>\n",
              "    <tr>\n",
              "      <th>75%</th>\n",
              "      <td>0.000000e+00</td>\n",
              "      <td>4.0</td>\n",
              "      <td>4.000000e+00</td>\n",
              "      <td>0.0</td>\n",
              "      <td>0.0</td>\n",
              "    </tr>\n",
              "    <tr>\n",
              "      <th>max</th>\n",
              "      <td>2.000000e+00</td>\n",
              "      <td>4.0</td>\n",
              "      <td>4.000000e+00</td>\n",
              "      <td>0.0</td>\n",
              "      <td>0.0</td>\n",
              "    </tr>\n",
              "  </tbody>\n",
              "</table>\n",
              "</div>"
            ],
            "text/plain": [
              "                  0           1             2           3           4\n",
              "count  1.247252e+07  12472515.0  1.247252e+07  12472515.0  12472515.0\n",
              "mean   9.984394e-02         4.0  3.900156e+00         0.0         0.0\n",
              "std    3.033298e-01         0.0  3.033298e-01         0.0         0.0\n",
              "min    0.000000e+00         4.0  2.000000e+00         0.0         0.0\n",
              "25%    0.000000e+00         4.0  4.000000e+00         0.0         0.0\n",
              "50%    0.000000e+00         4.0  4.000000e+00         0.0         0.0\n",
              "75%    0.000000e+00         4.0  4.000000e+00         0.0         0.0\n",
              "max    2.000000e+00         4.0  4.000000e+00         0.0         0.0"
            ]
          },
          "metadata": {
            "tags": []
          },
          "execution_count": 4
        }
      ]
    },
    {
      "cell_type": "markdown",
      "metadata": {
        "id": "4awRnZ1yvaiL"
      },
      "source": [
        "Visualisasi Dataset Bersih"
      ]
    },
    {
      "cell_type": "code",
      "metadata": {
        "colab": {
          "base_uri": "https://localhost:8080/",
          "height": 282
        },
        "id": "Shy8xe7wrmdY",
        "outputId": "aa04a838-4213-4970-a093-8675561cf6a9"
      },
      "source": [
        "plt.scatter(arr_features[:,0], arr_features[:,1])"
      ],
      "execution_count": 5,
      "outputs": [
        {
          "output_type": "execute_result",
          "data": {
            "text/plain": [
              "<matplotlib.collections.PathCollection at 0x7f1eda249450>"
            ]
          },
          "metadata": {
            "tags": []
          },
          "execution_count": 5
        },
        {
          "output_type": "display_data",
          "data": {
            "image/png": "[encoded data removed]",
            "text/plain": [
              "<Figure size 432x288 with 1 Axes>"
            ]
          },
          "metadata": {
            "tags": [],
            "needs_background": "light"
          }
        }
      ]
    },
    {
      "cell_type": "markdown",
      "metadata": {
        "id": "cW6mUg4717zj"
      },
      "source": [
        "# 2. Klasiterisasi"
      ]
    },
    {
      "cell_type": "markdown",
      "metadata": {
        "id": "XeZC8lHiuBpK"
      },
      "source": [
        "2.1. Analisis Metode Elbow"
      ]
    },
    {
      "cell_type": "code",
      "metadata": {
        "colab": {
          "base_uri": "https://localhost:8080/"
        },
        "id": "hhREf8CGl22z",
        "outputId": "648e6410-019b-4c28-d222-d2e9f39b3d18"
      },
      "source": [
        "inertia = []\n",
        "K = range(1,10)\n",
        "for k in K:\n",
        "    kmeanModel = KMeans(n_clusters=k).fit(arr_features)\n",
        "    kmeanModel.fit(arr_features)\n",
        "    inertia.append(kmeanModel.inertia_)"
      ],
      "execution_count": 6,
      "outputs": [
        {
          "output_type": "stream",
          "text": [
            "/usr/local/lib/python3.7/dist-packages/ipykernel_launcher.py:4: ConvergenceWarning: Number of distinct clusters (3) found smaller than n_clusters (4). Possibly due to duplicate points in X.\n",
            "  after removing the cwd from sys.path.\n",
            "/usr/local/lib/python3.7/dist-packages/ipykernel_launcher.py:5: ConvergenceWarning: Number of distinct clusters (3) found smaller than n_clusters (4). Possibly due to duplicate points in X.\n",
            "  \"\"\"\n",
            "/usr/local/lib/python3.7/dist-packages/ipykernel_launcher.py:4: ConvergenceWarning: Number of distinct clusters (3) found smaller than n_clusters (5). Possibly due to duplicate points in X.\n",
            "  after removing the cwd from sys.path.\n",
            "/usr/local/lib/python3.7/dist-packages/ipykernel_launcher.py:5: ConvergenceWarning: Number of distinct clusters (3) found smaller than n_clusters (5). Possibly due to duplicate points in X.\n",
            "  \"\"\"\n",
            "/usr/local/lib/python3.7/dist-packages/ipykernel_launcher.py:4: ConvergenceWarning: Number of distinct clusters (3) found smaller than n_clusters (6). Possibly due to duplicate points in X.\n",
            "  after removing the cwd from sys.path.\n",
            "/usr/local/lib/python3.7/dist-packages/ipykernel_launcher.py:5: ConvergenceWarning: Number of distinct clusters (3) found smaller than n_clusters (6). Possibly due to duplicate points in X.\n",
            "  \"\"\"\n",
            "/usr/local/lib/python3.7/dist-packages/ipykernel_launcher.py:4: ConvergenceWarning: Number of distinct clusters (3) found smaller than n_clusters (7). Possibly due to duplicate points in X.\n",
            "  after removing the cwd from sys.path.\n",
            "/usr/local/lib/python3.7/dist-packages/ipykernel_launcher.py:5: ConvergenceWarning: Number of distinct clusters (3) found smaller than n_clusters (7). Possibly due to duplicate points in X.\n",
            "  \"\"\"\n",
            "/usr/local/lib/python3.7/dist-packages/ipykernel_launcher.py:4: ConvergenceWarning: Number of distinct clusters (3) found smaller than n_clusters (8). Possibly due to duplicate points in X.\n",
            "  after removing the cwd from sys.path.\n",
            "/usr/local/lib/python3.7/dist-packages/ipykernel_launcher.py:5: ConvergenceWarning: Number of distinct clusters (3) found smaller than n_clusters (8). Possibly due to duplicate points in X.\n",
            "  \"\"\"\n",
            "/usr/local/lib/python3.7/dist-packages/ipykernel_launcher.py:4: ConvergenceWarning: Number of distinct clusters (3) found smaller than n_clusters (9). Possibly due to duplicate points in X.\n",
            "  after removing the cwd from sys.path.\n",
            "/usr/local/lib/python3.7/dist-packages/ipykernel_launcher.py:5: ConvergenceWarning: Number of distinct clusters (3) found smaller than n_clusters (9). Possibly due to duplicate points in X.\n",
            "  \"\"\"\n"
          ],
          "name": "stderr"
        }
      ]
    },
    {
      "cell_type": "markdown",
      "metadata": {
        "id": "hoq8d-KtwSeD"
      },
      "source": [
        "Visualisasi Hasil Analisis Elbow"
      ]
    },
    {
      "cell_type": "code",
      "metadata": {
        "colab": {
          "base_uri": "https://localhost:8080/",
          "height": 290
        },
        "id": "dc8y0ejRh-X4",
        "outputId": "fcc64732-6fe2-4636-8fca-35587b9d790a"
      },
      "source": [
        "# Plot the elbow\n",
        "plt.plot(K, inertia, 'bx-')\n",
        "plt.xlabel('k')\n",
        "plt.ylabel('Inertia')\n",
        "plt.show()"
      ],
      "execution_count": 7,
      "outputs": [
        {
          "output_type": "display_data",
          "data": {
            "image/png": "[encoded data removed]",
            "text/plain": [
              "<Figure size 432x288 with 1 Axes>"
            ]
          },
          "metadata": {
            "tags": [],
            "needs_background": "light"
          }
        }
      ]
    },
    {
      "cell_type": "markdown",
      "metadata": {
        "id": "xsCNGr5WwbRr"
      },
      "source": [
        "2.1 Klasterisasi K-Means"
      ]
    },
    {
      "cell_type": "code",
      "metadata": {
        "id": "UOWffMBBhTEZ"
      },
      "source": [
        "kmeans = KMeans(n_clusters=3).fit(arr_features)"
      ],
      "execution_count": 8,
      "outputs": []
    },
    {
      "cell_type": "code",
      "metadata": {
        "colab": {
          "base_uri": "https://localhost:8080/",
          "height": 419
        },
        "id": "ps7RXmYamYOS",
        "outputId": "7eaf0f6c-58eb-4871-dd2f-10abb7dbc88f"
      },
      "source": [
        "labels = pd.DataFrame(kmeans.labels_) #This is where the label output of the KMeans we just ran lives. Make it a dataframe so we can concatenate back to the original data\n",
        "labeledFeatures = pd.concat((df_features,labels),axis=1)\n",
        "labeledFeatures = labeledFeatures.rename({0:'labels'},axis=1)\n",
        "labeledFeatures"
      ],
      "execution_count": 9,
      "outputs": [
        {
          "output_type": "execute_result",
          "data": {
            "text/html": [
              "<div>\n",
              "<style scoped>\n",
              "    .dataframe tbody tr th:only-of-type {\n",
              "        vertical-align: middle;\n",
              "    }\n",
              "\n",
              "    .dataframe tbody tr th {\n",
              "        vertical-align: top;\n",
              "    }\n",
              "\n",
              "    .dataframe thead th {\n",
              "        text-align: right;\n",
              "    }\n",
              "</style>\n",
              "<table border=\"1\" class=\"dataframe\">\n",
              "  <thead>\n",
              "    <tr style=\"text-align: right;\">\n",
              "      <th></th>\n",
              "      <th>cn</th>\n",
              "      <th>pa</th>\n",
              "      <th>tn</th>\n",
              "      <th>sp</th>\n",
              "      <th>sl</th>\n",
              "      <th>labels</th>\n",
              "    </tr>\n",
              "  </thead>\n",
              "  <tbody>\n",
              "    <tr>\n",
              "      <th>0</th>\n",
              "      <td>0.0</td>\n",
              "      <td>4.0</td>\n",
              "      <td>4.0</td>\n",
              "      <td>0.0</td>\n",
              "      <td>0.0</td>\n",
              "      <td>0</td>\n",
              "    </tr>\n",
              "    <tr>\n",
              "      <th>1</th>\n",
              "      <td>0.0</td>\n",
              "      <td>4.0</td>\n",
              "      <td>4.0</td>\n",
              "      <td>0.0</td>\n",
              "      <td>0.0</td>\n",
              "      <td>0</td>\n",
              "    </tr>\n",
              "    <tr>\n",
              "      <th>2</th>\n",
              "      <td>0.0</td>\n",
              "      <td>4.0</td>\n",
              "      <td>4.0</td>\n",
              "      <td>0.0</td>\n",
              "      <td>0.0</td>\n",
              "      <td>0</td>\n",
              "    </tr>\n",
              "    <tr>\n",
              "      <th>3</th>\n",
              "      <td>1.0</td>\n",
              "      <td>4.0</td>\n",
              "      <td>3.0</td>\n",
              "      <td>0.0</td>\n",
              "      <td>0.0</td>\n",
              "      <td>1</td>\n",
              "    </tr>\n",
              "    <tr>\n",
              "      <th>4</th>\n",
              "      <td>0.0</td>\n",
              "      <td>4.0</td>\n",
              "      <td>4.0</td>\n",
              "      <td>0.0</td>\n",
              "      <td>0.0</td>\n",
              "      <td>0</td>\n",
              "    </tr>\n",
              "    <tr>\n",
              "      <th>...</th>\n",
              "      <td>...</td>\n",
              "      <td>...</td>\n",
              "      <td>...</td>\n",
              "      <td>...</td>\n",
              "      <td>...</td>\n",
              "      <td>...</td>\n",
              "    </tr>\n",
              "    <tr>\n",
              "      <th>12472510</th>\n",
              "      <td>0.0</td>\n",
              "      <td>4.0</td>\n",
              "      <td>4.0</td>\n",
              "      <td>0.0</td>\n",
              "      <td>0.0</td>\n",
              "      <td>0</td>\n",
              "    </tr>\n",
              "    <tr>\n",
              "      <th>12472511</th>\n",
              "      <td>0.0</td>\n",
              "      <td>4.0</td>\n",
              "      <td>4.0</td>\n",
              "      <td>0.0</td>\n",
              "      <td>0.0</td>\n",
              "      <td>0</td>\n",
              "    </tr>\n",
              "    <tr>\n",
              "      <th>12472512</th>\n",
              "      <td>0.0</td>\n",
              "      <td>4.0</td>\n",
              "      <td>4.0</td>\n",
              "      <td>0.0</td>\n",
              "      <td>0.0</td>\n",
              "      <td>0</td>\n",
              "    </tr>\n",
              "    <tr>\n",
              "      <th>12472513</th>\n",
              "      <td>0.0</td>\n",
              "      <td>4.0</td>\n",
              "      <td>4.0</td>\n",
              "      <td>0.0</td>\n",
              "      <td>0.0</td>\n",
              "      <td>0</td>\n",
              "    </tr>\n",
              "    <tr>\n",
              "      <th>12472514</th>\n",
              "      <td>0.0</td>\n",
              "      <td>4.0</td>\n",
              "      <td>4.0</td>\n",
              "      <td>0.0</td>\n",
              "      <td>0.0</td>\n",
              "      <td>0</td>\n",
              "    </tr>\n",
              "  </tbody>\n",
              "</table>\n",
              "<p>12472515 rows × 6 columns</p>\n",
              "</div>"
            ],
            "text/plain": [
              "           cn   pa   tn   sp   sl  labels\n",
              "0         0.0  4.0  4.0  0.0  0.0       0\n",
              "1         0.0  4.0  4.0  0.0  0.0       0\n",
              "2         0.0  4.0  4.0  0.0  0.0       0\n",
              "3         1.0  4.0  3.0  0.0  0.0       1\n",
              "4         0.0  4.0  4.0  0.0  0.0       0\n",
              "...       ...  ...  ...  ...  ...     ...\n",
              "12472510  0.0  4.0  4.0  0.0  0.0       0\n",
              "12472511  0.0  4.0  4.0  0.0  0.0       0\n",
              "12472512  0.0  4.0  4.0  0.0  0.0       0\n",
              "12472513  0.0  4.0  4.0  0.0  0.0       0\n",
              "12472514  0.0  4.0  4.0  0.0  0.0       0\n",
              "\n",
              "[12472515 rows x 6 columns]"
            ]
          },
          "metadata": {
            "tags": []
          },
          "execution_count": 9
        }
      ]
    },
    {
      "cell_type": "markdown",
      "metadata": {
        "id": "_ye7ea2EmiKd"
      },
      "source": [
        "Visualisasi Hasil Klasterisasi"
      ]
    },
    {
      "cell_type": "code",
      "metadata": {
        "colab": {
          "base_uri": "https://localhost:8080/",
          "height": 400
        },
        "id": "5OP76Gk7mhiv",
        "outputId": "21e9aa69-1de9-4f3e-8ad4-c0b57d1f2e68"
      },
      "source": [
        "sns.lmplot(\n",
        "    x='cn',\n",
        "    y='tn',\n",
        "    data=labeledFeatures,\n",
        "    hue='labels',\n",
        "    fit_reg=False\n",
        ")"
      ],
      "execution_count": 10,
      "outputs": [
        {
          "output_type": "execute_result",
          "data": {
            "text/plain": [
              "<seaborn.axisgrid.FacetGrid at 0x7f1ed1d23c50>"
            ]
          },
          "metadata": {
            "tags": []
          },
          "execution_count": 10
        },
        {
          "output_type": "display_data",
          "data": {
            "image/png": "[encoded data removed]",
            "text/plain": [
              "<Figure size 402.375x360 with 1 Axes>"
            ]
          },
          "metadata": {
            "tags": [],
            "needs_background": "light"
          }
        }
      ]
    }
  ]
}