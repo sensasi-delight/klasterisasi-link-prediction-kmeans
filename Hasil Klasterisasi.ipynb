{
  "nbformat": 4,
  "nbformat_minor": 0,
  "metadata": {
    "colab": {
      "name": "FP - Semantic Web - Link Prediction Caleg",
      "provenance": [],
      "authorship_tag": "ABX9TyMJX0MLNXBMKpLCiSjPXxDH",
      "include_colab_link": true
    },
    "kernelspec": {
      "name": "python3",
      "display_name": "Python 3"
    },
    "language_info": {
      "name": "python"
    }
  },
  "cells": [
    {
      "cell_type": "markdown",
      "metadata": {
        "id": "view-in-github",
        "colab_type": "text"
      },
      "source": [
        "<a href=\"https://colab.research.google.com/github/sensasi-delight/klasterisasi-link-prediction-kmeans/blob/main/Hasil%20Klasterisasi.ipynb\" target=\"_parent\"><img src=\"https://colab.research.google.com/assets/colab-badge.svg\" alt=\"Open In Colab\"/></a>"
      ]
    },
    {
      "cell_type": "markdown",
      "metadata": {
        "id": "sCzX0XWpur4q"
      },
      "source": [
        "# 0. Inisialisasi"
      ]
    },
    {
      "cell_type": "markdown",
      "metadata": {
        "id": "iSgevR8Qu1SN"
      },
      "source": [
        "0.1. Impor Pustaka Python"
      ]
    },
    {
      "cell_type": "code",
      "metadata": {
        "id": "4-TrmwynDiq3"
      },
      "source": [
        "import numpy as np\n",
        "import pandas as pd\n",
        "from matplotlib import pyplot as plt\n",
        "import seaborn as sns\n",
        "\n",
        "from sklearn.cluster import KMeans\n",
        "from sklearn import preprocessing\n"
      ],
      "execution_count": 1,
      "outputs": []
    },
    {
      "cell_type": "markdown",
      "metadata": {
        "id": "zYKyrIZo0sM_"
      },
      "source": [
        "0.2 Import Dataset Fitur"
      ]
    },
    {
      "cell_type": "code",
      "metadata": {
        "id": "2rQAbxI494Tq"
      },
      "source": [
        "!wget -qnc -P '' https://archive.org/download/caleg-linkprediction-dataset/d3%20-%20Dataset%20Hasil%20Ekstraksi%20Fitur.csv\n"
      ],
      "execution_count": 2,
      "outputs": []
    },
    {
      "cell_type": "code",
      "metadata": {
        "id": "dKnm49eB-p-c",
        "colab": {
          "base_uri": "https://localhost:8080/",
          "height": 419
        },
        "outputId": "492bc6c5-0346-4e28-9b9d-0cb9983745fd"
      },
      "source": [
        "df_fitur = pd.read_csv(\"d3 - Dataset Hasil Ekstraksi Fitur.csv\")\n",
        "df_fitur"
      ],
      "execution_count": 3,
      "outputs": [
        {
          "output_type": "execute_result",
          "data": {
            "text/html": [
              "<div>\n",
              "<style scoped>\n",
              "    .dataframe tbody tr th:only-of-type {\n",
              "        vertical-align: middle;\n",
              "    }\n",
              "\n",
              "    .dataframe tbody tr th {\n",
              "        vertical-align: top;\n",
              "    }\n",
              "\n",
              "    .dataframe thead th {\n",
              "        text-align: right;\n",
              "    }\n",
              "</style>\n",
              "<table border=\"1\" class=\"dataframe\">\n",
              "  <thead>\n",
              "    <tr style=\"text-align: right;\">\n",
              "      <th></th>\n",
              "      <th>node1</th>\n",
              "      <th>node2</th>\n",
              "      <th>cn</th>\n",
              "      <th>pa</th>\n",
              "      <th>tn</th>\n",
              "      <th>sp</th>\n",
              "      <th>sl</th>\n",
              "    </tr>\n",
              "  </thead>\n",
              "  <tbody>\n",
              "    <tr>\n",
              "      <th>0</th>\n",
              "      <td>Ir A L LONGDONG</td>\n",
              "      <td>Ir A. ANDRIANSYAH</td>\n",
              "      <td>0.0</td>\n",
              "      <td>4.0</td>\n",
              "      <td>4.0</td>\n",
              "      <td>1.0</td>\n",
              "      <td>0.0</td>\n",
              "    </tr>\n",
              "    <tr>\n",
              "      <th>1</th>\n",
              "      <td>Ir A L LONGDONG</td>\n",
              "      <td>Ir A. BAGUS PEKIK. H</td>\n",
              "      <td>0.0</td>\n",
              "      <td>4.0</td>\n",
              "      <td>4.0</td>\n",
              "      <td>1.0</td>\n",
              "      <td>0.0</td>\n",
              "    </tr>\n",
              "    <tr>\n",
              "      <th>2</th>\n",
              "      <td>Ir A L LONGDONG</td>\n",
              "      <td>A. DADAN SURYANA S.Sos</td>\n",
              "      <td>0.0</td>\n",
              "      <td>4.0</td>\n",
              "      <td>4.0</td>\n",
              "      <td>1.0</td>\n",
              "      <td>0.0</td>\n",
              "    </tr>\n",
              "    <tr>\n",
              "      <th>3</th>\n",
              "      <td>Ir A L LONGDONG</td>\n",
              "      <td>A. DARSONO SH, MH</td>\n",
              "      <td>1.0</td>\n",
              "      <td>4.0</td>\n",
              "      <td>3.0</td>\n",
              "      <td>1.0</td>\n",
              "      <td>0.0</td>\n",
              "    </tr>\n",
              "    <tr>\n",
              "      <th>4</th>\n",
              "      <td>Ir A L LONGDONG</td>\n",
              "      <td>A. GUNAWAN SE</td>\n",
              "      <td>0.0</td>\n",
              "      <td>4.0</td>\n",
              "      <td>4.0</td>\n",
              "      <td>1.0</td>\n",
              "      <td>0.0</td>\n",
              "    </tr>\n",
              "    <tr>\n",
              "      <th>...</th>\n",
              "      <td>...</td>\n",
              "      <td>...</td>\n",
              "      <td>...</td>\n",
              "      <td>...</td>\n",
              "      <td>...</td>\n",
              "      <td>...</td>\n",
              "      <td>...</td>\n",
              "    </tr>\n",
              "    <tr>\n",
              "      <th>12472510</th>\n",
              "      <td>ZULKARNAIN S.Pd.I</td>\n",
              "      <td>ZULKIFLI NIODE</td>\n",
              "      <td>0.0</td>\n",
              "      <td>4.0</td>\n",
              "      <td>4.0</td>\n",
              "      <td>1.0</td>\n",
              "      <td>0.0</td>\n",
              "    </tr>\n",
              "    <tr>\n",
              "      <th>12472511</th>\n",
              "      <td>ZULKARNAIN S.Pd.I</td>\n",
              "      <td>ZUMALA EVA CHANDRASARI</td>\n",
              "      <td>0.0</td>\n",
              "      <td>4.0</td>\n",
              "      <td>4.0</td>\n",
              "      <td>1.0</td>\n",
              "      <td>0.0</td>\n",
              "    </tr>\n",
              "    <tr>\n",
              "      <th>12472512</th>\n",
              "      <td>ZULKIFLI S.Si, M.Si</td>\n",
              "      <td>ZULKIFLI NIODE</td>\n",
              "      <td>0.0</td>\n",
              "      <td>4.0</td>\n",
              "      <td>4.0</td>\n",
              "      <td>1.0</td>\n",
              "      <td>0.0</td>\n",
              "    </tr>\n",
              "    <tr>\n",
              "      <th>12472513</th>\n",
              "      <td>ZULKIFLI S.Si, M.Si</td>\n",
              "      <td>ZUMALA EVA CHANDRASARI</td>\n",
              "      <td>0.0</td>\n",
              "      <td>4.0</td>\n",
              "      <td>4.0</td>\n",
              "      <td>1.0</td>\n",
              "      <td>0.0</td>\n",
              "    </tr>\n",
              "    <tr>\n",
              "      <th>12472514</th>\n",
              "      <td>ZULKIFLI NIODE</td>\n",
              "      <td>ZUMALA EVA CHANDRASARI</td>\n",
              "      <td>0.0</td>\n",
              "      <td>4.0</td>\n",
              "      <td>4.0</td>\n",
              "      <td>1.0</td>\n",
              "      <td>0.0</td>\n",
              "    </tr>\n",
              "  </tbody>\n",
              "</table>\n",
              "<p>12472515 rows × 7 columns</p>\n",
              "</div>"
            ],
            "text/plain": [
              "                        node1                   node2   cn   pa   tn   sp   sl\n",
              "0             Ir A L LONGDONG       Ir A. ANDRIANSYAH  0.0  4.0  4.0  1.0  0.0\n",
              "1             Ir A L LONGDONG    Ir A. BAGUS PEKIK. H  0.0  4.0  4.0  1.0  0.0\n",
              "2             Ir A L LONGDONG  A. DADAN SURYANA S.Sos  0.0  4.0  4.0  1.0  0.0\n",
              "3             Ir A L LONGDONG       A. DARSONO SH, MH  1.0  4.0  3.0  1.0  0.0\n",
              "4             Ir A L LONGDONG           A. GUNAWAN SE  0.0  4.0  4.0  1.0  0.0\n",
              "...                       ...                     ...  ...  ...  ...  ...  ...\n",
              "12472510    ZULKARNAIN S.Pd.I          ZULKIFLI NIODE  0.0  4.0  4.0  1.0  0.0\n",
              "12472511    ZULKARNAIN S.Pd.I  ZUMALA EVA CHANDRASARI  0.0  4.0  4.0  1.0  0.0\n",
              "12472512  ZULKIFLI S.Si, M.Si          ZULKIFLI NIODE  0.0  4.0  4.0  1.0  0.0\n",
              "12472513  ZULKIFLI S.Si, M.Si  ZUMALA EVA CHANDRASARI  0.0  4.0  4.0  1.0  0.0\n",
              "12472514       ZULKIFLI NIODE  ZUMALA EVA CHANDRASARI  0.0  4.0  4.0  1.0  0.0\n",
              "\n",
              "[12472515 rows x 7 columns]"
            ]
          },
          "metadata": {
            "tags": []
          },
          "execution_count": 3
        }
      ]
    },
    {
      "cell_type": "markdown",
      "metadata": {
        "id": "01ZVZ0gKrtrA"
      },
      "source": [
        "# 1. Praproses Dataset"
      ]
    },
    {
      "cell_type": "markdown",
      "metadata": {
        "id": "oq9ZCndlvzMq"
      },
      "source": [
        "1.1. Pembersihan Dataset"
      ]
    },
    {
      "cell_type": "code",
      "metadata": {
        "id": "5EuQczBsiiU8",
        "colab": {
          "base_uri": "https://localhost:8080/",
          "height": 297
        },
        "outputId": "d05bf669-7f92-493b-8679-5de44597c143"
      },
      "source": [
        "df_features = df_fitur.drop(['node1', 'node2'],axis=1)\n",
        "arr_features = df_features.to_numpy()\n",
        "\n",
        "pd.DataFrame(arr_features).describe()"
      ],
      "execution_count": 4,
      "outputs": [
        {
          "output_type": "execute_result",
          "data": {
            "text/html": [
              "<div>\n",
              "<style scoped>\n",
              "    .dataframe tbody tr th:only-of-type {\n",
              "        vertical-align: middle;\n",
              "    }\n",
              "\n",
              "    .dataframe tbody tr th {\n",
              "        vertical-align: top;\n",
              "    }\n",
              "\n",
              "    .dataframe thead th {\n",
              "        text-align: right;\n",
              "    }\n",
              "</style>\n",
              "<table border=\"1\" class=\"dataframe\">\n",
              "  <thead>\n",
              "    <tr style=\"text-align: right;\">\n",
              "      <th></th>\n",
              "      <th>0</th>\n",
              "      <th>1</th>\n",
              "      <th>2</th>\n",
              "      <th>3</th>\n",
              "      <th>4</th>\n",
              "    </tr>\n",
              "  </thead>\n",
              "  <tbody>\n",
              "    <tr>\n",
              "      <th>count</th>\n",
              "      <td>1.247252e+07</td>\n",
              "      <td>12472515.0</td>\n",
              "      <td>1.247252e+07</td>\n",
              "      <td>12472515.0</td>\n",
              "      <td>1.247252e+07</td>\n",
              "    </tr>\n",
              "    <tr>\n",
              "      <th>mean</th>\n",
              "      <td>9.984394e-02</td>\n",
              "      <td>4.0</td>\n",
              "      <td>3.900156e+00</td>\n",
              "      <td>1.0</td>\n",
              "      <td>1.356086e-02</td>\n",
              "    </tr>\n",
              "    <tr>\n",
              "      <th>std</th>\n",
              "      <td>3.033298e-01</td>\n",
              "      <td>0.0</td>\n",
              "      <td>3.033298e-01</td>\n",
              "      <td>0.0</td>\n",
              "      <td>1.156588e-01</td>\n",
              "    </tr>\n",
              "    <tr>\n",
              "      <th>min</th>\n",
              "      <td>0.000000e+00</td>\n",
              "      <td>4.0</td>\n",
              "      <td>2.000000e+00</td>\n",
              "      <td>1.0</td>\n",
              "      <td>0.000000e+00</td>\n",
              "    </tr>\n",
              "    <tr>\n",
              "      <th>25%</th>\n",
              "      <td>0.000000e+00</td>\n",
              "      <td>4.0</td>\n",
              "      <td>4.000000e+00</td>\n",
              "      <td>1.0</td>\n",
              "      <td>0.000000e+00</td>\n",
              "    </tr>\n",
              "    <tr>\n",
              "      <th>50%</th>\n",
              "      <td>0.000000e+00</td>\n",
              "      <td>4.0</td>\n",
              "      <td>4.000000e+00</td>\n",
              "      <td>1.0</td>\n",
              "      <td>0.000000e+00</td>\n",
              "    </tr>\n",
              "    <tr>\n",
              "      <th>75%</th>\n",
              "      <td>0.000000e+00</td>\n",
              "      <td>4.0</td>\n",
              "      <td>4.000000e+00</td>\n",
              "      <td>1.0</td>\n",
              "      <td>0.000000e+00</td>\n",
              "    </tr>\n",
              "    <tr>\n",
              "      <th>max</th>\n",
              "      <td>2.000000e+00</td>\n",
              "      <td>4.0</td>\n",
              "      <td>4.000000e+00</td>\n",
              "      <td>1.0</td>\n",
              "      <td>1.000000e+00</td>\n",
              "    </tr>\n",
              "  </tbody>\n",
              "</table>\n",
              "</div>"
            ],
            "text/plain": [
              "                  0           1             2           3             4\n",
              "count  1.247252e+07  12472515.0  1.247252e+07  12472515.0  1.247252e+07\n",
              "mean   9.984394e-02         4.0  3.900156e+00         1.0  1.356086e-02\n",
              "std    3.033298e-01         0.0  3.033298e-01         0.0  1.156588e-01\n",
              "min    0.000000e+00         4.0  2.000000e+00         1.0  0.000000e+00\n",
              "25%    0.000000e+00         4.0  4.000000e+00         1.0  0.000000e+00\n",
              "50%    0.000000e+00         4.0  4.000000e+00         1.0  0.000000e+00\n",
              "75%    0.000000e+00         4.0  4.000000e+00         1.0  0.000000e+00\n",
              "max    2.000000e+00         4.0  4.000000e+00         1.0  1.000000e+00"
            ]
          },
          "metadata": {
            "tags": []
          },
          "execution_count": 4
        }
      ]
    },
    {
      "cell_type": "markdown",
      "metadata": {
        "id": "4awRnZ1yvaiL"
      },
      "source": [
        "Visualisasi Dataset Bersih"
      ]
    },
    {
      "cell_type": "code",
      "metadata": {
        "colab": {
          "base_uri": "https://localhost:8080/",
          "height": 282
        },
        "id": "Shy8xe7wrmdY",
        "outputId": "13d22dc5-8203-45b8-8ed0-085d48a790a0"
      },
      "source": [
        "plt.scatter(arr_features[:,0], arr_features[:,1])"
      ],
      "execution_count": 5,
      "outputs": [
        {
          "output_type": "execute_result",
          "data": {
            "text/plain": [
              "<matplotlib.collections.PathCollection at 0x7fc4d6bd9250>"
            ]
          },
          "metadata": {
            "tags": []
          },
          "execution_count": 5
        },
        {
          "output_type": "display_data",
          "data": {
            "image/png": "[encoded data removed]",
            "text/plain": [
              "<Figure size 432x288 with 1 Axes>"
            ]
          },
          "metadata": {
            "tags": [],
            "needs_background": "light"
          }
        }
      ]
    },
    {
      "cell_type": "markdown",
      "metadata": {
        "id": "cW6mUg4717zj"
      },
      "source": [
        "# 2. Klasiterisasi"
      ]
    },
    {
      "cell_type": "markdown",
      "metadata": {
        "id": "XeZC8lHiuBpK"
      },
      "source": [
        "2.1. Analisis Metode Elbow"
      ]
    },
    {
      "cell_type": "code",
      "metadata": {
        "colab": {
          "base_uri": "https://localhost:8080/"
        },
        "id": "hhREf8CGl22z",
        "outputId": "22c5256c-4ec7-4622-f716-0fcc2f5ea853"
      },
      "source": [
        "inertia = []\n",
        "K = range(1,10)\n",
        "for k in K:\n",
        "    kmeanModel = KMeans(n_clusters=k).fit(arr_features)\n",
        "    kmeanModel.fit(arr_features)\n",
        "    inertia.append(kmeanModel.inertia_)"
      ],
      "execution_count": 6,
      "outputs": [
        {
          "output_type": "stream",
          "text": [
            "/usr/local/lib/python3.7/dist-packages/ipykernel_launcher.py:4: ConvergenceWarning: Number of distinct clusters (5) found smaller than n_clusters (6). Possibly due to duplicate points in X.\n",
            "  after removing the cwd from sys.path.\n",
            "/usr/local/lib/python3.7/dist-packages/ipykernel_launcher.py:5: ConvergenceWarning: Number of distinct clusters (5) found smaller than n_clusters (6). Possibly due to duplicate points in X.\n",
            "  \"\"\"\n",
            "/usr/local/lib/python3.7/dist-packages/ipykernel_launcher.py:4: ConvergenceWarning: Number of distinct clusters (5) found smaller than n_clusters (7). Possibly due to duplicate points in X.\n",
            "  after removing the cwd from sys.path.\n",
            "/usr/local/lib/python3.7/dist-packages/ipykernel_launcher.py:5: ConvergenceWarning: Number of distinct clusters (5) found smaller than n_clusters (7). Possibly due to duplicate points in X.\n",
            "  \"\"\"\n",
            "/usr/local/lib/python3.7/dist-packages/ipykernel_launcher.py:4: ConvergenceWarning: Number of distinct clusters (5) found smaller than n_clusters (8). Possibly due to duplicate points in X.\n",
            "  after removing the cwd from sys.path.\n",
            "/usr/local/lib/python3.7/dist-packages/ipykernel_launcher.py:5: ConvergenceWarning: Number of distinct clusters (5) found smaller than n_clusters (8). Possibly due to duplicate points in X.\n",
            "  \"\"\"\n",
            "/usr/local/lib/python3.7/dist-packages/ipykernel_launcher.py:4: ConvergenceWarning: Number of distinct clusters (5) found smaller than n_clusters (9). Possibly due to duplicate points in X.\n",
            "  after removing the cwd from sys.path.\n",
            "/usr/local/lib/python3.7/dist-packages/ipykernel_launcher.py:5: ConvergenceWarning: Number of distinct clusters (5) found smaller than n_clusters (9). Possibly due to duplicate points in X.\n",
            "  \"\"\"\n"
          ],
          "name": "stderr"
        }
      ]
    },
    {
      "cell_type": "markdown",
      "metadata": {
        "id": "hoq8d-KtwSeD"
      },
      "source": [
        "Visualisasi Hasil Analisis Elbow"
      ]
    },
    {
      "cell_type": "code",
      "metadata": {
        "colab": {
          "base_uri": "https://localhost:8080/",
          "height": 290
        },
        "id": "dc8y0ejRh-X4",
        "outputId": "6acee9c3-298f-4c33-d97f-5b3866795ddc"
      },
      "source": [
        "# Plot the elbow\n",
        "plt.plot(K, inertia, 'bx-')\n",
        "plt.xlabel('k')\n",
        "plt.ylabel('Inertia')\n",
        "plt.show()"
      ],
      "execution_count": 7,
      "outputs": [
        {
          "output_type": "display_data",
          "data": {
            "image/png": "[encoded data removed]",
            "text/plain": [
              "<Figure size 432x288 with 1 Axes>"
            ]
          },
          "metadata": {
            "tags": [],
            "needs_background": "light"
          }
        }
      ]
    },
    {
      "cell_type": "markdown",
      "metadata": {
        "id": "xsCNGr5WwbRr"
      },
      "source": [
        "2.1 Klasterisasi K-Means"
      ]
    },
    {
      "cell_type": "code",
      "metadata": {
        "id": "UOWffMBBhTEZ"
      },
      "source": [
        "kmeans = KMeans(n_clusters=3).fit(arr_features)"
      ],
      "execution_count": 8,
      "outputs": []
    },
    {
      "cell_type": "code",
      "metadata": {
        "colab": {
          "base_uri": "https://localhost:8080/",
          "height": 419
        },
        "id": "ps7RXmYamYOS",
        "outputId": "da867bee-37f7-43c2-bc89-a32f89446acc"
      },
      "source": [
        "labels = pd.DataFrame(kmeans.labels_)\n",
        "labeledFeatures = pd.concat((df_features,labels),axis=1)\n",
        "labeledFeatures = labeledFeatures.rename({0:'labels'},axis=1)\n",
        "labeledFeatures"
      ],
      "execution_count": 9,
      "outputs": [
        {
          "output_type": "execute_result",
          "data": {
            "text/html": [
              "<div>\n",
              "<style scoped>\n",
              "    .dataframe tbody tr th:only-of-type {\n",
              "        vertical-align: middle;\n",
              "    }\n",
              "\n",
              "    .dataframe tbody tr th {\n",
              "        vertical-align: top;\n",
              "    }\n",
              "\n",
              "    .dataframe thead th {\n",
              "        text-align: right;\n",
              "    }\n",
              "</style>\n",
              "<table border=\"1\" class=\"dataframe\">\n",
              "  <thead>\n",
              "    <tr style=\"text-align: right;\">\n",
              "      <th></th>\n",
              "      <th>cn</th>\n",
              "      <th>pa</th>\n",
              "      <th>tn</th>\n",
              "      <th>sp</th>\n",
              "      <th>sl</th>\n",
              "      <th>labels</th>\n",
              "    </tr>\n",
              "  </thead>\n",
              "  <tbody>\n",
              "    <tr>\n",
              "      <th>0</th>\n",
              "      <td>0.0</td>\n",
              "      <td>4.0</td>\n",
              "      <td>4.0</td>\n",
              "      <td>1.0</td>\n",
              "      <td>0.0</td>\n",
              "      <td>0</td>\n",
              "    </tr>\n",
              "    <tr>\n",
              "      <th>1</th>\n",
              "      <td>0.0</td>\n",
              "      <td>4.0</td>\n",
              "      <td>4.0</td>\n",
              "      <td>1.0</td>\n",
              "      <td>0.0</td>\n",
              "      <td>0</td>\n",
              "    </tr>\n",
              "    <tr>\n",
              "      <th>2</th>\n",
              "      <td>0.0</td>\n",
              "      <td>4.0</td>\n",
              "      <td>4.0</td>\n",
              "      <td>1.0</td>\n",
              "      <td>0.0</td>\n",
              "      <td>0</td>\n",
              "    </tr>\n",
              "    <tr>\n",
              "      <th>3</th>\n",
              "      <td>1.0</td>\n",
              "      <td>4.0</td>\n",
              "      <td>3.0</td>\n",
              "      <td>1.0</td>\n",
              "      <td>0.0</td>\n",
              "      <td>1</td>\n",
              "    </tr>\n",
              "    <tr>\n",
              "      <th>4</th>\n",
              "      <td>0.0</td>\n",
              "      <td>4.0</td>\n",
              "      <td>4.0</td>\n",
              "      <td>1.0</td>\n",
              "      <td>0.0</td>\n",
              "      <td>0</td>\n",
              "    </tr>\n",
              "    <tr>\n",
              "      <th>...</th>\n",
              "      <td>...</td>\n",
              "      <td>...</td>\n",
              "      <td>...</td>\n",
              "      <td>...</td>\n",
              "      <td>...</td>\n",
              "      <td>...</td>\n",
              "    </tr>\n",
              "    <tr>\n",
              "      <th>12472510</th>\n",
              "      <td>0.0</td>\n",
              "      <td>4.0</td>\n",
              "      <td>4.0</td>\n",
              "      <td>1.0</td>\n",
              "      <td>0.0</td>\n",
              "      <td>0</td>\n",
              "    </tr>\n",
              "    <tr>\n",
              "      <th>12472511</th>\n",
              "      <td>0.0</td>\n",
              "      <td>4.0</td>\n",
              "      <td>4.0</td>\n",
              "      <td>1.0</td>\n",
              "      <td>0.0</td>\n",
              "      <td>0</td>\n",
              "    </tr>\n",
              "    <tr>\n",
              "      <th>12472512</th>\n",
              "      <td>0.0</td>\n",
              "      <td>4.0</td>\n",
              "      <td>4.0</td>\n",
              "      <td>1.0</td>\n",
              "      <td>0.0</td>\n",
              "      <td>0</td>\n",
              "    </tr>\n",
              "    <tr>\n",
              "      <th>12472513</th>\n",
              "      <td>0.0</td>\n",
              "      <td>4.0</td>\n",
              "      <td>4.0</td>\n",
              "      <td>1.0</td>\n",
              "      <td>0.0</td>\n",
              "      <td>0</td>\n",
              "    </tr>\n",
              "    <tr>\n",
              "      <th>12472514</th>\n",
              "      <td>0.0</td>\n",
              "      <td>4.0</td>\n",
              "      <td>4.0</td>\n",
              "      <td>1.0</td>\n",
              "      <td>0.0</td>\n",
              "      <td>0</td>\n",
              "    </tr>\n",
              "  </tbody>\n",
              "</table>\n",
              "<p>12472515 rows × 6 columns</p>\n",
              "</div>"
            ],
            "text/plain": [
              "           cn   pa   tn   sp   sl  labels\n",
              "0         0.0  4.0  4.0  1.0  0.0       0\n",
              "1         0.0  4.0  4.0  1.0  0.0       0\n",
              "2         0.0  4.0  4.0  1.0  0.0       0\n",
              "3         1.0  4.0  3.0  1.0  0.0       1\n",
              "4         0.0  4.0  4.0  1.0  0.0       0\n",
              "...       ...  ...  ...  ...  ...     ...\n",
              "12472510  0.0  4.0  4.0  1.0  0.0       0\n",
              "12472511  0.0  4.0  4.0  1.0  0.0       0\n",
              "12472512  0.0  4.0  4.0  1.0  0.0       0\n",
              "12472513  0.0  4.0  4.0  1.0  0.0       0\n",
              "12472514  0.0  4.0  4.0  1.0  0.0       0\n",
              "\n",
              "[12472515 rows x 6 columns]"
            ]
          },
          "metadata": {
            "tags": []
          },
          "execution_count": 9
        }
      ]
    },
    {
      "cell_type": "markdown",
      "metadata": {
        "id": "lUTixtP0gHT2"
      },
      "source": [
        "Rangkuman Hasil Klasterisasi"
      ]
    },
    {
      "cell_type": "code",
      "metadata": {
        "colab": {
          "base_uri": "https://localhost:8080/"
        },
        "id": "fIMSSCAZcC5v",
        "outputId": "066a2dde-5704-4c6c-8049-82831e0c468b"
      },
      "source": [
        "labelCount = labeledFeatures['labels'].value_counts().reset_index()\n",
        "labelCount.columns=['Klaster ke-', 'Jumlah Data']\n",
        "\n",
        "print(labelCount)"
      ],
      "execution_count": 10,
      "outputs": [
        {
          "output_type": "stream",
          "text": [
            "   Klaster ke-  Jumlah Data\n",
            "0            0     11240517\n",
            "1            1      1074208\n",
            "2            2       157790\n"
          ],
          "name": "stdout"
        }
      ]
    },
    {
      "cell_type": "markdown",
      "metadata": {
        "id": "_ye7ea2EmiKd"
      },
      "source": [
        "Visualisasi Hasil Klasterisasi"
      ]
    },
    {
      "cell_type": "markdown",
      "metadata": {
        "id": "lqzKLCP1kxSq"
      },
      "source": [
        "sumbu x, y = cn, pa"
      ]
    },
    {
      "cell_type": "code",
      "metadata": {
        "colab": {
          "base_uri": "https://localhost:8080/",
          "height": 400
        },
        "id": "5OP76Gk7mhiv",
        "outputId": "f9390aa4-f1ef-4670-f7e3-fe2a063e7aca"
      },
      "source": [
        "sns.lmplot(\n",
        "    x='cn',\n",
        "    y='pa',\n",
        "    data=labeledFeatures,\n",
        "    hue='labels',\n",
        "    fit_reg=False\n",
        ")"
      ],
      "execution_count": 11,
      "outputs": [
        {
          "output_type": "execute_result",
          "data": {
            "text/plain": [
              "<seaborn.axisgrid.FacetGrid at 0x7fc4ce640450>"
            ]
          },
          "metadata": {
            "tags": []
          },
          "execution_count": 11
        },
        {
          "output_type": "display_data",
          "data": {
            "image/png": "[encoded data removed]",
            "text/plain": [
              "<Figure size 402.375x360 with 1 Axes>"
            ]
          },
          "metadata": {
            "tags": [],
            "needs_background": "light"
          }
        }
      ]
    },
    {
      "cell_type": "markdown",
      "metadata": {
        "id": "Do8RJH6Mk8to"
      },
      "source": [
        "sumbu x, y = cn, tn"
      ]
    },
    {
      "cell_type": "code",
      "metadata": {
        "colab": {
          "base_uri": "https://localhost:8080/",
          "height": 400
        },
        "id": "tJygVBmfkj3O",
        "outputId": "4f9c10f9-eace-4c43-c17b-8550248c0689"
      },
      "source": [
        "sns.lmplot(\n",
        "    x='cn',\n",
        "    y='tn',\n",
        "    data=labeledFeatures,\n",
        "    hue='labels',\n",
        "    fit_reg=False\n",
        ")"
      ],
      "execution_count": 12,
      "outputs": [
        {
          "output_type": "execute_result",
          "data": {
            "text/plain": [
              "<seaborn.axisgrid.FacetGrid at 0x7fc4cdb87f90>"
            ]
          },
          "metadata": {
            "tags": []
          },
          "execution_count": 12
        },
        {
          "output_type": "display_data",
          "data": {
            "image/png": "[encoded data removed]",
            "text/plain": [
              "<Figure size 402.375x360 with 1 Axes>"
            ]
          },
          "metadata": {
            "tags": [],
            "needs_background": "light"
          }
        }
      ]
    },
    {
      "cell_type": "markdown",
      "metadata": {
        "id": "kz1R09nyk7gR"
      },
      "source": [
        "sumbu x, y = cn, sp"
      ]
    },
    {
      "cell_type": "code",
      "metadata": {
        "colab": {
          "base_uri": "https://localhost:8080/",
          "height": 400
        },
        "id": "LexswGBokp4y",
        "outputId": "81fb1846-f26c-4c9f-ebed-83d7ebc4bb2f"
      },
      "source": [
        "sns.lmplot(\n",
        "    x='cn',\n",
        "    y='sp',\n",
        "    data=labeledFeatures,\n",
        "    hue='labels',\n",
        "    fit_reg=False\n",
        ")"
      ],
      "execution_count": 13,
      "outputs": [
        {
          "output_type": "execute_result",
          "data": {
            "text/plain": [
              "<seaborn.axisgrid.FacetGrid at 0x7fc4cdb5f890>"
            ]
          },
          "metadata": {
            "tags": []
          },
          "execution_count": 13
        },
        {
          "output_type": "display_data",
          "data": {
            "image/png": "[encoded data removed]",
            "text/plain": [
              "<Figure size 402.375x360 with 1 Axes>"
            ]
          },
          "metadata": {
            "tags": [],
            "needs_background": "light"
          }
        }
      ]
    },
    {
      "cell_type": "markdown",
      "metadata": {
        "id": "plroXKFtk_1H"
      },
      "source": [
        "sumbu x, y = cn, sl"
      ]
    },
    {
      "cell_type": "code",
      "metadata": {
        "colab": {
          "base_uri": "https://localhost:8080/",
          "height": 400
        },
        "id": "hnm075ibkqAz",
        "outputId": "ce8145c9-9aea-49b3-f9d6-4049d24c35c3"
      },
      "source": [
        "sns.lmplot(\n",
        "    x='cn',\n",
        "    y='sl',\n",
        "    data=labeledFeatures,\n",
        "    hue='labels',\n",
        "    fit_reg=False\n",
        ")"
      ],
      "execution_count": 14,
      "outputs": [
        {
          "output_type": "execute_result",
          "data": {
            "text/plain": [
              "<seaborn.axisgrid.FacetGrid at 0x7fc4cdb42990>"
            ]
          },
          "metadata": {
            "tags": []
          },
          "execution_count": 14
        },
        {
          "output_type": "display_data",
          "data": {
            "image/png": "[encoded data removed]",
            "text/plain": [
              "<Figure size 402.375x360 with 1 Axes>"
            ]
          },
          "metadata": {
            "tags": [],
            "needs_background": "light"
          }
        }
      ]
    },
    {
      "cell_type": "markdown",
      "metadata": {
        "id": "PZ0qPT2rnkqc"
      },
      "source": [
        "Ekspor hasil klasterisasi ke file CSV"
      ]
    },
    {
      "cell_type": "code",
      "metadata": {
        "id": "1yQL3OyknXu5"
      },
      "source": [
        "df_toCsv = pd.concat((df_fitur,labels),axis=1)\n",
        "df_toCsv = df_toCsv.rename({0:'labels'},axis=1)\n",
        "\n",
        "df_toCsv.to_csv('d4 - Hasil Klasterisasi.csv')"
      ],
      "execution_count": 15,
      "outputs": []
    }
  ]
}